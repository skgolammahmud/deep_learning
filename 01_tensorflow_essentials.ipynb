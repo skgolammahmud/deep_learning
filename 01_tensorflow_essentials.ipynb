{
  "nbformat": 4,
  "nbformat_minor": 0,
  "metadata": {
    "colab": {
      "provenance": [],
      "authorship_tag": "ABX9TyOtIh0fHih45i0HBTzmnwm9",
      "include_colab_link": true
    },
    "kernelspec": {
      "name": "python3",
      "display_name": "Python 3"
    },
    "language_info": {
      "name": "python"
    }
  },
  "cells": [
    {
      "cell_type": "markdown",
      "metadata": {
        "id": "view-in-github",
        "colab_type": "text"
      },
      "source": [
        "<a href=\"https://colab.research.google.com/github/skgolammahmud/deep_learning/blob/main/tensorflow_essentials.ipynb\" target=\"_parent\"><img src=\"https://colab.research.google.com/assets/colab-badge.svg\" alt=\"Open In Colab\"/></a>"
      ]
    },
    {
      "cell_type": "code",
      "execution_count": 1,
      "metadata": {
        "colab": {
          "base_uri": "https://localhost:8080/"
        },
        "id": "DoI1Vlv07hvX",
        "outputId": "0d4b3d07-4af0-47a8-d6e1-6df22390fdd9"
      },
      "outputs": [
        {
          "output_type": "stream",
          "name": "stdout",
          "text": [
            "2.17.1\n"
          ]
        }
      ],
      "source": [
        "import tensorflow as tf\n",
        "print(tf.__version__)"
      ]
    },
    {
      "cell_type": "code",
      "source": [
        "# creating a scalar\n",
        "scalar = tf.constant(1)\n",
        "scalar"
      ],
      "metadata": {
        "colab": {
          "base_uri": "https://localhost:8080/"
        },
        "id": "EnnPFpnZ76mE",
        "outputId": "a41b0885-4c51-4bde-822a-fe4b8362b46f"
      },
      "execution_count": 2,
      "outputs": [
        {
          "output_type": "execute_result",
          "data": {
            "text/plain": [
              "<tf.Tensor: shape=(), dtype=int32, numpy=1>"
            ]
          },
          "metadata": {},
          "execution_count": 2
        }
      ]
    },
    {
      "cell_type": "markdown",
      "source": [
        "#### A scalar is known as a rank 0 tensor. Because it has no dimensions (it's just a number)"
      ],
      "metadata": {
        "id": "3VYkXZD08X97"
      }
    },
    {
      "cell_type": "code",
      "source": [
        "# number of dimensions\n",
        "scalar.ndim"
      ],
      "metadata": {
        "colab": {
          "base_uri": "https://localhost:8080/"
        },
        "id": "OdTALhCw8TvI",
        "outputId": "540e694c-c042-421b-96bc-1e04bec65240"
      },
      "execution_count": 3,
      "outputs": [
        {
          "output_type": "execute_result",
          "data": {
            "text/plain": [
              "0"
            ]
          },
          "metadata": {},
          "execution_count": 3
        }
      ]
    },
    {
      "cell_type": "code",
      "source": [
        "# creating a vector (more than 0 dimensions)\n",
        "vector = tf.constant([1,2])\n",
        "vector"
      ],
      "metadata": {
        "colab": {
          "base_uri": "https://localhost:8080/"
        },
        "id": "FdS5R_zL8wMc",
        "outputId": "67b5ad34-8a46-4b4e-8fa9-d8e11c1493b2"
      },
      "execution_count": 4,
      "outputs": [
        {
          "output_type": "execute_result",
          "data": {
            "text/plain": [
              "<tf.Tensor: shape=(2,), dtype=int32, numpy=array([1, 2], dtype=int32)>"
            ]
          },
          "metadata": {},
          "execution_count": 4
        }
      ]
    },
    {
      "cell_type": "code",
      "source": [
        "# number of dimentions\n",
        "vector.ndim"
      ],
      "metadata": {
        "colab": {
          "base_uri": "https://localhost:8080/"
        },
        "id": "-hWZNmqv9BuF",
        "outputId": "71fe68f5-9541-43c3-895c-3b531e9b0d95"
      },
      "execution_count": 5,
      "outputs": [
        {
          "output_type": "execute_result",
          "data": {
            "text/plain": [
              "1"
            ]
          },
          "metadata": {},
          "execution_count": 5
        }
      ]
    },
    {
      "cell_type": "code",
      "source": [
        "# creating a matrix (more than 1 dimentions)\n",
        "matrix = tf.constant([[1,2],\n",
        "                      [3,4]])\n",
        "matrix"
      ],
      "metadata": {
        "colab": {
          "base_uri": "https://localhost:8080/"
        },
        "id": "c9UVj9yi9InI",
        "outputId": "32d2ab11-750b-40e9-c52a-a1d61a0710c0"
      },
      "execution_count": 6,
      "outputs": [
        {
          "output_type": "execute_result",
          "data": {
            "text/plain": [
              "<tf.Tensor: shape=(2, 2), dtype=int32, numpy=\n",
              "array([[1, 2],\n",
              "       [3, 4]], dtype=int32)>"
            ]
          },
          "metadata": {},
          "execution_count": 6
        }
      ]
    },
    {
      "cell_type": "code",
      "source": [
        "# number of dimentions\n",
        "matrix.ndim"
      ],
      "metadata": {
        "colab": {
          "base_uri": "https://localhost:8080/"
        },
        "id": "_NVkBP8A9UOV",
        "outputId": "31cb1c59-0d84-4571-9858-43485aa7d4ac"
      },
      "execution_count": 7,
      "outputs": [
        {
          "output_type": "execute_result",
          "data": {
            "text/plain": [
              "2"
            ]
          },
          "metadata": {},
          "execution_count": 7
        }
      ]
    },
    {
      "cell_type": "markdown",
      "source": [
        "#### By default, `tf` creates tensors with either an `int32` or `float32` dtype."
      ],
      "metadata": {
        "id": "HL5fsnV89lMO"
      }
    },
    {
      "cell_type": "code",
      "source": [
        "# now, creating another matrix and defining the dtype\n",
        "custom_matrix = tf.constant([[1,2],\n",
        "                             [3,4]], dtype=tf.float16)\n",
        "custom_matrix"
      ],
      "metadata": {
        "colab": {
          "base_uri": "https://localhost:8080/"
        },
        "id": "93ndY5ls9ai7",
        "outputId": "7659ad80-e4f4-4f7b-e36b-a8a2c9b7e7c1"
      },
      "execution_count": 8,
      "outputs": [
        {
          "output_type": "execute_result",
          "data": {
            "text/plain": [
              "<tf.Tensor: shape=(2, 2), dtype=float16, numpy=\n",
              "array([[1., 2.],\n",
              "       [3., 4.]], dtype=float16)>"
            ]
          },
          "metadata": {},
          "execution_count": 8
        }
      ]
    },
    {
      "cell_type": "code",
      "source": [
        "# dtype is different, but dimension will be same\n",
        "custom_matrix.ndim"
      ],
      "metadata": {
        "colab": {
          "base_uri": "https://localhost:8080/"
        },
        "id": "7p3U03SJ-Zq9",
        "outputId": "1190d77d-760e-4c7a-f216-594db146c0b8"
      },
      "execution_count": 9,
      "outputs": [
        {
          "output_type": "execute_result",
          "data": {
            "text/plain": [
              "2"
            ]
          },
          "metadata": {},
          "execution_count": 9
        }
      ]
    },
    {
      "cell_type": "code",
      "source": [
        "# more than 2 dimensions\n",
        "tensor = tf.constant([[[1,2,3],\n",
        "                       [4,5,6]],\n",
        "                      [[1,2,3],\n",
        "                       [4,5,6]]])\n",
        "tensor"
      ],
      "metadata": {
        "colab": {
          "base_uri": "https://localhost:8080/"
        },
        "id": "BLg7_rjv-oYa",
        "outputId": "c5ce9ea1-0d87-44da-c3ff-e2f9b7b7a01e"
      },
      "execution_count": 10,
      "outputs": [
        {
          "output_type": "execute_result",
          "data": {
            "text/plain": [
              "<tf.Tensor: shape=(2, 2, 3), dtype=int32, numpy=\n",
              "array([[[1, 2, 3],\n",
              "        [4, 5, 6]],\n",
              "\n",
              "       [[1, 2, 3],\n",
              "        [4, 5, 6]]], dtype=int32)>"
            ]
          },
          "metadata": {},
          "execution_count": 10
        }
      ]
    },
    {
      "cell_type": "code",
      "source": [
        "# number of dimensions\n",
        "tensor.ndim"
      ],
      "metadata": {
        "colab": {
          "base_uri": "https://localhost:8080/"
        },
        "id": "iVAcypTQ_Bl-",
        "outputId": "bf6c94ef-4ae5-4e41-df23-3dc925f4a08c"
      },
      "execution_count": 11,
      "outputs": [
        {
          "output_type": "execute_result",
          "data": {
            "text/plain": [
              "3"
            ]
          },
          "metadata": {},
          "execution_count": 11
        }
      ]
    },
    {
      "cell_type": "markdown",
      "source": [
        "##### This is known as a rank 3 tensor (3 dimensional)"
      ],
      "metadata": {
        "id": "NeTUnwgpQ5x9"
      }
    },
    {
      "cell_type": "code",
      "source": [
        "changable_tensor = tf.Variable([1,2])\n",
        "unchangeable_tensor = tf.constant([1,2])"
      ],
      "metadata": {
        "id": "Jo0TByFz_JNo"
      },
      "execution_count": 12,
      "outputs": []
    },
    {
      "cell_type": "code",
      "source": [
        "# in order to change element, need to use `.assign()` method\n",
        "changable_tensor[0].assign(100)\n",
        "changable_tensor"
      ],
      "metadata": {
        "colab": {
          "base_uri": "https://localhost:8080/"
        },
        "id": "vzzNI4BWT4sP",
        "outputId": "07c476fc-4c55-4522-be4f-f751c18f05b5"
      },
      "execution_count": 13,
      "outputs": [
        {
          "output_type": "execute_result",
          "data": {
            "text/plain": [
              "<tf.Variable 'Variable:0' shape=(2,) dtype=int32, numpy=array([100,   2], dtype=int32)>"
            ]
          },
          "metadata": {},
          "execution_count": 13
        }
      ]
    },
    {
      "cell_type": "markdown",
      "source": [
        "# Random tensors"
      ],
      "metadata": {
        "id": "fS3K4DgTSaqU"
      }
    },
    {
      "cell_type": "code",
      "source": [
        "# creating two random (but the same) tensors\n",
        "random_1 = tf.random.Generator.from_seed(25) # setting the seed for reproducibility\n",
        "random_1 = random_1.normal(shape=(3,2)) # creating tensor from a normal distribution\n",
        "\n",
        "random_2 = tf.random.Generator.from_seed(25)\n",
        "random_2 = random_2.normal(shape=(3,2))\n",
        "\n",
        "random_1, random_2, random_1 == random_2"
      ],
      "metadata": {
        "colab": {
          "base_uri": "https://localhost:8080/"
        },
        "id": "gDTfX5zGUhi3",
        "outputId": "4cdf42f1-b27f-4303-a1dc-629a42cc5ffc"
      },
      "execution_count": 14,
      "outputs": [
        {
          "output_type": "execute_result",
          "data": {
            "text/plain": [
              "(<tf.Tensor: shape=(3, 2), dtype=float32, numpy=\n",
              " array([[-0.14371012, -0.34646833],\n",
              "        [ 1.1456194 , -0.416     ],\n",
              "        [ 0.43369916,  1.0241015 ]], dtype=float32)>,\n",
              " <tf.Tensor: shape=(3, 2), dtype=float32, numpy=\n",
              " array([[-0.14371012, -0.34646833],\n",
              "        [ 1.1456194 , -0.416     ],\n",
              "        [ 0.43369916,  1.0241015 ]], dtype=float32)>,\n",
              " <tf.Tensor: shape=(3, 2), dtype=bool, numpy=\n",
              " array([[ True,  True],\n",
              "        [ True,  True],\n",
              "        [ True,  True]])>)"
            ]
          },
          "metadata": {},
          "execution_count": 14
        }
      ]
    },
    {
      "cell_type": "code",
      "source": [
        "# shuffle a tensor\n",
        "not_shuffled = tf.constant([[1,2],\n",
        "                            [3,4],\n",
        "                            [5,6]])\n",
        "tf.random.shuffle(not_shuffled)"
      ],
      "metadata": {
        "colab": {
          "base_uri": "https://localhost:8080/"
        },
        "id": "BJpelKyOXMMG",
        "outputId": "b6617271-2edc-48a1-ec38-5a5ccad3b20f"
      },
      "execution_count": 15,
      "outputs": [
        {
          "output_type": "execute_result",
          "data": {
            "text/plain": [
              "<tf.Tensor: shape=(3, 2), dtype=int32, numpy=\n",
              "array([[5, 6],\n",
              "       [1, 2],\n",
              "       [3, 4]], dtype=int32)>"
            ]
          },
          "metadata": {},
          "execution_count": 15
        }
      ]
    },
    {
      "cell_type": "markdown",
      "source": [
        "### Global Seed\n",
        "\n",
        "*   Controls all random numbers in the whole program\n",
        "*   Makes the whole program’s random results the same every time I run it.\n",
        "\n",
        "\n"
      ],
      "metadata": {
        "id": "PEZGUNSP2neK"
      }
    },
    {
      "cell_type": "code",
      "source": [
        "tf.random.set_seed(42)              # Sets global seed for consistency\n",
        "print(tf.random.uniform([2, 2]))    # Same numbers every time"
      ],
      "metadata": {
        "colab": {
          "base_uri": "https://localhost:8080/"
        },
        "id": "lF4cdj6bf9Sf",
        "outputId": "35b389e9-e0f7-4c21-f070-55d915b4c9fa"
      },
      "execution_count": 16,
      "outputs": [
        {
          "output_type": "stream",
          "name": "stdout",
          "text": [
            "tf.Tensor(\n",
            "[[0.6645621  0.44100678]\n",
            " [0.3528825  0.46448255]], shape=(2, 2), dtype=float32)\n"
          ]
        }
      ]
    },
    {
      "cell_type": "markdown",
      "source": [
        "### Operation Seed\n",
        "\n",
        "*   Controls only one specific random operation.\n",
        "*   Makes only that one random result the same every time, even if the rest of the program is different."
      ],
      "metadata": {
        "id": "S1H46x7B3GMY"
      }
    },
    {
      "cell_type": "code",
      "source": [
        "print(tf.random.uniform([2, 2], seed=7))  # This specific result stays the same every time"
      ],
      "metadata": {
        "colab": {
          "base_uri": "https://localhost:8080/"
        },
        "id": "bLprZwf4oCN5",
        "outputId": "8246c3ce-952b-4385-d7cb-9b706dc8165a"
      },
      "execution_count": 17,
      "outputs": [
        {
          "output_type": "stream",
          "name": "stdout",
          "text": [
            "tf.Tensor(\n",
            "[[0.8627677  0.6567626 ]\n",
            " [0.99054587 0.9031013 ]], shape=(2, 2), dtype=float32)\n"
          ]
        }
      ]
    },
    {
      "cell_type": "markdown",
      "source": [
        "#### Other ways to make tensors"
      ],
      "metadata": {
        "id": "HCMLGagu5M6A"
      }
    },
    {
      "cell_type": "code",
      "source": [
        "# all ones\n",
        "tf.ones(shape=(3,2))"
      ],
      "metadata": {
        "colab": {
          "base_uri": "https://localhost:8080/"
        },
        "id": "qVEkTlohLoRG",
        "outputId": "a524887c-6c31-4c47-cb73-0d9449823d5d"
      },
      "execution_count": 18,
      "outputs": [
        {
          "output_type": "execute_result",
          "data": {
            "text/plain": [
              "<tf.Tensor: shape=(3, 2), dtype=float32, numpy=\n",
              "array([[1., 1.],\n",
              "       [1., 1.],\n",
              "       [1., 1.]], dtype=float32)>"
            ]
          },
          "metadata": {},
          "execution_count": 18
        }
      ]
    },
    {
      "cell_type": "code",
      "source": [
        "# all zeros\n",
        "tf.zeros(shape=(2,2))"
      ],
      "metadata": {
        "colab": {
          "base_uri": "https://localhost:8080/"
        },
        "id": "UEhWAzZN5b9h",
        "outputId": "a56ba49c-e5f8-45aa-d5cf-ec2f85ddb8c5"
      },
      "execution_count": 19,
      "outputs": [
        {
          "output_type": "execute_result",
          "data": {
            "text/plain": [
              "<tf.Tensor: shape=(2, 2), dtype=float32, numpy=\n",
              "array([[0., 0.],\n",
              "       [0., 0.]], dtype=float32)>"
            ]
          },
          "metadata": {},
          "execution_count": 19
        }
      ]
    },
    {
      "cell_type": "markdown",
      "source": [
        "### Convert numpy arrays into tensors"
      ],
      "metadata": {
        "id": "I8EKo-XN5v6p"
      }
    },
    {
      "cell_type": "markdown",
      "source": [
        "##### A matrix or tensor is typically represented by a capital letter (e.g. `X` or `A`) where as a vector is typically represented by a lowercase letter (e.g. `y` or `b`)."
      ],
      "metadata": {
        "id": "YpvJKhXe54AR"
      }
    },
    {
      "cell_type": "code",
      "source": [
        "import numpy as np\n",
        "numpy_A = np.arange(1,25, dtype=np.int32)     # created a NumPy array between 1 and 25\n",
        "A = tf.constant(numpy_A, shape=(2,4,3))       # the shape total (2*4*3) has to match the number of elements in the array\n",
        "\n",
        "numpy_A, A"
      ],
      "metadata": {
        "colab": {
          "base_uri": "https://localhost:8080/"
        },
        "id": "auqX8l_f5i6w",
        "outputId": "e6f4abff-88e8-4ad2-e085-467a00aa35ba"
      },
      "execution_count": 20,
      "outputs": [
        {
          "output_type": "execute_result",
          "data": {
            "text/plain": [
              "(array([ 1,  2,  3,  4,  5,  6,  7,  8,  9, 10, 11, 12, 13, 14, 15, 16, 17,\n",
              "        18, 19, 20, 21, 22, 23, 24], dtype=int32),\n",
              " <tf.Tensor: shape=(2, 4, 3), dtype=int32, numpy=\n",
              " array([[[ 1,  2,  3],\n",
              "         [ 4,  5,  6],\n",
              "         [ 7,  8,  9],\n",
              "         [10, 11, 12]],\n",
              " \n",
              "        [[13, 14, 15],\n",
              "         [16, 17, 18],\n",
              "         [19, 20, 21],\n",
              "         [22, 23, 24]]], dtype=int32)>)"
            ]
          },
          "metadata": {},
          "execution_count": 20
        }
      ]
    },
    {
      "cell_type": "markdown",
      "source": [
        "# Getting information tensors (shape, rank, size)"
      ],
      "metadata": {
        "id": "g1Eq6PI_7tC8"
      }
    },
    {
      "cell_type": "markdown",
      "source": [
        "* Shape: The size of each dimension in a tensor.\n",
        "(e.g., shape (3, 2) means 3 rows, 2 columns)\n",
        "\n",
        "* Rank: Number of dimensions.\n",
        "(e.g., scalar: rank 0, vector: rank 1, matrix: rank 2)\n",
        "\n",
        "* Axis: A specific dimension in the tensor.\n",
        "(e.g., for a 3x2 matrix, axis 0 is rows, axis 1 is columns)\n",
        "\n",
        "* Size: Total number of elements.\n",
        "(e.g., a shape of (3, 2) has size 6)"
      ],
      "metadata": {
        "id": "2D_bm0tTCA7n"
      }
    },
    {
      "cell_type": "code",
      "source": [
        "# Create a rank 4 tensor (4 dimensions)\n",
        "rank_4_tensor = tf.zeros([2, 3, 4, 5])\n",
        "rank_4_tensor"
      ],
      "metadata": {
        "colab": {
          "base_uri": "https://localhost:8080/"
        },
        "id": "i33ZP2XbDpqa",
        "outputId": "db6ac458-9a4c-49e9-b89a-1710c6ac9b57"
      },
      "execution_count": 21,
      "outputs": [
        {
          "output_type": "execute_result",
          "data": {
            "text/plain": [
              "<tf.Tensor: shape=(2, 3, 4, 5), dtype=float32, numpy=\n",
              "array([[[[0., 0., 0., 0., 0.],\n",
              "         [0., 0., 0., 0., 0.],\n",
              "         [0., 0., 0., 0., 0.],\n",
              "         [0., 0., 0., 0., 0.]],\n",
              "\n",
              "        [[0., 0., 0., 0., 0.],\n",
              "         [0., 0., 0., 0., 0.],\n",
              "         [0., 0., 0., 0., 0.],\n",
              "         [0., 0., 0., 0., 0.]],\n",
              "\n",
              "        [[0., 0., 0., 0., 0.],\n",
              "         [0., 0., 0., 0., 0.],\n",
              "         [0., 0., 0., 0., 0.],\n",
              "         [0., 0., 0., 0., 0.]]],\n",
              "\n",
              "\n",
              "       [[[0., 0., 0., 0., 0.],\n",
              "         [0., 0., 0., 0., 0.],\n",
              "         [0., 0., 0., 0., 0.],\n",
              "         [0., 0., 0., 0., 0.]],\n",
              "\n",
              "        [[0., 0., 0., 0., 0.],\n",
              "         [0., 0., 0., 0., 0.],\n",
              "         [0., 0., 0., 0., 0.],\n",
              "         [0., 0., 0., 0., 0.]],\n",
              "\n",
              "        [[0., 0., 0., 0., 0.],\n",
              "         [0., 0., 0., 0., 0.],\n",
              "         [0., 0., 0., 0., 0.],\n",
              "         [0., 0., 0., 0., 0.]]]], dtype=float32)>"
            ]
          },
          "metadata": {},
          "execution_count": 21
        }
      ]
    },
    {
      "cell_type": "code",
      "source": [
        "rank_4_tensor.shape, rank_4_tensor.ndim, tf.size(rank_4_tensor)"
      ],
      "metadata": {
        "colab": {
          "base_uri": "https://localhost:8080/"
        },
        "id": "qsIWXhgwD0DQ",
        "outputId": "1cdfdd54-6ad5-40fe-88a1-d903730bcf40"
      },
      "execution_count": 22,
      "outputs": [
        {
          "output_type": "execute_result",
          "data": {
            "text/plain": [
              "(TensorShape([2, 3, 4, 5]), 4, <tf.Tensor: shape=(), dtype=int32, numpy=120>)"
            ]
          },
          "metadata": {},
          "execution_count": 22
        }
      ]
    },
    {
      "cell_type": "code",
      "source": [
        "# getting various attributes of tensor\n",
        "print(\"Datatype of every element: \", rank_4_tensor.dtype)\n",
        "print(\"Number of dimensions: \", rank_4_tensor.ndim)\n",
        "print(\"Shape of tensor: \", rank_4_tensor.shape)\n",
        "print(\"Elements along axis 0 of tensor: \", rank_4_tensor.shape[0])\n",
        "print(\"Elements along last axis of tensor: \", rank_4_tensor.shape[-1])\n",
        "print(\"Total number of elements (2*3*4*5): \", tf.size(rank_4_tensor).numpy()) #.numpy() converts to numpy array"
      ],
      "metadata": {
        "colab": {
          "base_uri": "https://localhost:8080/"
        },
        "id": "CsklRDclEL8F",
        "outputId": "1650e608-4a6c-4503-ed94-a017f53353a5"
      },
      "execution_count": 23,
      "outputs": [
        {
          "output_type": "stream",
          "name": "stdout",
          "text": [
            "Datatype of every element:  <dtype: 'float32'>\n",
            "Number of dimensions:  4\n",
            "Shape of tensor:  (2, 3, 4, 5)\n",
            "Elements along axis 0 of tensor:  2\n",
            "Elements along last axis of tensor:  5\n",
            "Total number of elements (2*3*4*5):  120\n"
          ]
        }
      ]
    },
    {
      "cell_type": "code",
      "source": [
        "# first 2 items of each dimensions\n",
        "rank_4_tensor[:2, :2, :2, :2]"
      ],
      "metadata": {
        "colab": {
          "base_uri": "https://localhost:8080/"
        },
        "id": "lbMX3naLIbkU",
        "outputId": "3255d826-dc16-412a-ae54-ad938a81e8f8"
      },
      "execution_count": 24,
      "outputs": [
        {
          "output_type": "execute_result",
          "data": {
            "text/plain": [
              "<tf.Tensor: shape=(2, 2, 2, 2), dtype=float32, numpy=\n",
              "array([[[[0., 0.],\n",
              "         [0., 0.]],\n",
              "\n",
              "        [[0., 0.],\n",
              "         [0., 0.]]],\n",
              "\n",
              "\n",
              "       [[[0., 0.],\n",
              "         [0., 0.]],\n",
              "\n",
              "        [[0., 0.],\n",
              "         [0., 0.]]]], dtype=float32)>"
            ]
          },
          "metadata": {},
          "execution_count": 24
        }
      ]
    },
    {
      "cell_type": "code",
      "source": [
        "# selecting the first item from each of the first three dimensions and all items from the fourth\n",
        "rank_4_tensor[:1, :1, :1, :]"
      ],
      "metadata": {
        "id": "YmKvzdIkDHRt",
        "colab": {
          "base_uri": "https://localhost:8080/"
        },
        "outputId": "af562b41-3379-4827-c683-a5dd302c239b"
      },
      "execution_count": 25,
      "outputs": [
        {
          "output_type": "execute_result",
          "data": {
            "text/plain": [
              "<tf.Tensor: shape=(1, 1, 1, 5), dtype=float32, numpy=array([[[[0., 0., 0., 0., 0.]]]], dtype=float32)>"
            ]
          },
          "metadata": {},
          "execution_count": 25
        }
      ]
    },
    {
      "cell_type": "code",
      "source": [
        "# creating a rank 2 tensor (2 dimensions)\n",
        "rank_2_tensor = tf.constant([[1,2],\n",
        "                             [3,4]])\n",
        "\n",
        "# getting the last item of each row\n",
        "rank_2_tensor[:, -1]"
      ],
      "metadata": {
        "colab": {
          "base_uri": "https://localhost:8080/"
        },
        "id": "t0vb2TiJ-faq",
        "outputId": "371de14f-3684-46d1-f36d-44a628724415"
      },
      "execution_count": 26,
      "outputs": [
        {
          "output_type": "execute_result",
          "data": {
            "text/plain": [
              "<tf.Tensor: shape=(2,), dtype=int32, numpy=array([2, 4], dtype=int32)>"
            ]
          },
          "metadata": {},
          "execution_count": 26
        }
      ]
    },
    {
      "cell_type": "code",
      "source": [
        "# adding an extra dimension\n",
        "rank_3_tensor = rank_2_tensor[..., tf.newaxis]                # in Python, \"...\" means, 'all dimensions prior to'\n",
        "rank_2_tensor, rank_3_tensor                                  # shape (2,2), shape (2,2,1)"
      ],
      "metadata": {
        "colab": {
          "base_uri": "https://localhost:8080/"
        },
        "id": "QEg2cR-g_MCW",
        "outputId": "9317e6f4-b13f-451d-f456-4eb37f9b4f96"
      },
      "execution_count": 27,
      "outputs": [
        {
          "output_type": "execute_result",
          "data": {
            "text/plain": [
              "(<tf.Tensor: shape=(2, 2), dtype=int32, numpy=\n",
              " array([[1, 2],\n",
              "        [3, 4]], dtype=int32)>,\n",
              " <tf.Tensor: shape=(2, 2, 1), dtype=int32, numpy=\n",
              " array([[[1],\n",
              "         [2]],\n",
              " \n",
              "        [[3],\n",
              "         [4]]], dtype=int32)>)"
            ]
          },
          "metadata": {},
          "execution_count": 27
        }
      ]
    },
    {
      "cell_type": "markdown",
      "source": [
        "#### Same thing can be achievable by using `tf.expand_dims()`."
      ],
      "metadata": {
        "id": "3dje1ZWnCleG"
      }
    },
    {
      "cell_type": "code",
      "source": [
        "tf.expand_dims(rank_2_tensor, axis=-1) # axis=-1 means adding a new dimension at end"
      ],
      "metadata": {
        "colab": {
          "base_uri": "https://localhost:8080/"
        },
        "id": "uBl_SCbt_uKM",
        "outputId": "ae096b6f-ea41-4465-8bbb-bda63d1282db"
      },
      "execution_count": 28,
      "outputs": [
        {
          "output_type": "execute_result",
          "data": {
            "text/plain": [
              "<tf.Tensor: shape=(2, 2, 1), dtype=int32, numpy=\n",
              "array([[[1],\n",
              "        [2]],\n",
              "\n",
              "       [[3],\n",
              "        [4]]], dtype=int32)>"
            ]
          },
          "metadata": {},
          "execution_count": 28
        }
      ]
    },
    {
      "cell_type": "markdown",
      "source": [
        "# Manipulating tensors (tensor operations)"
      ],
      "metadata": {
        "id": "HWZQSPkxrKBC"
      }
    },
    {
      "cell_type": "code",
      "source": [
        "# add values\n",
        "tensor = tf.constant([[1,2],\n",
        "                      [3,4]])\n",
        "tensor + 10"
      ],
      "metadata": {
        "colab": {
          "base_uri": "https://localhost:8080/"
        },
        "id": "Y0EWK4jfDo73",
        "outputId": "d826ab49-c121-421b-95f8-ac8764007935"
      },
      "execution_count": 29,
      "outputs": [
        {
          "output_type": "execute_result",
          "data": {
            "text/plain": [
              "<tf.Tensor: shape=(2, 2), dtype=int32, numpy=\n",
              "array([[11, 12],\n",
              "       [13, 14]], dtype=int32)>"
            ]
          },
          "metadata": {},
          "execution_count": 29
        }
      ]
    },
    {
      "cell_type": "markdown",
      "source": [
        "#### Original tensor will be unchanged. Same way for multiplication and subtraction."
      ],
      "metadata": {
        "id": "v4dWpxPfsJXD"
      }
    },
    {
      "cell_type": "markdown",
      "source": [
        "###### `.multiply()` function is an alternative. Similarly, main value will be same."
      ],
      "metadata": {
        "id": "OmpGvwKWs99J"
      }
    },
    {
      "cell_type": "code",
      "source": [
        "tf.multiply(tensor,10)"
      ],
      "metadata": {
        "colab": {
          "base_uri": "https://localhost:8080/"
        },
        "id": "0hOssXVarwkh",
        "outputId": "c1e47acc-c13c-4f82-a53a-d432845206bd"
      },
      "execution_count": 30,
      "outputs": [
        {
          "output_type": "execute_result",
          "data": {
            "text/plain": [
              "<tf.Tensor: shape=(2, 2), dtype=int32, numpy=\n",
              "array([[10, 20],\n",
              "       [30, 40]], dtype=int32)>"
            ]
          },
          "metadata": {},
          "execution_count": 30
        }
      ]
    },
    {
      "cell_type": "markdown",
      "source": [
        "### Matrix multiplication"
      ],
      "metadata": {
        "id": "enNi8OfetaDH"
      }
    },
    {
      "cell_type": "markdown",
      "source": [
        "##### `tf.matmul()` function used for that.\n",
        "\n",
        "##### The inner dimensions must match:\n",
        "*   (3, 5) @ (3, 5) won't work\n",
        "*   (5, 3) @ (3, 5) will work\n",
        "*   (3, 5) @ (5, 3) will work\n",
        "\n",
        "##### The resulting matrix has the shape of the outer dimensions:\n",
        "*   (5, 3) @ (3, 5) -> (5, 5)\n",
        "*   (3, 5) @ (5, 3) -> (3, 3)\n",
        "\n",
        "\n",
        "> '@' in Python is the symbol for matrix multiplication.\n",
        "\n",
        "\n",
        "\n",
        "\n"
      ],
      "metadata": {
        "id": "YZpE5zEvty6T"
      }
    },
    {
      "cell_type": "code",
      "source": [
        "# matrix multiplication in tensorflow\n",
        "tf.matmul(tensor, tensor)"
      ],
      "metadata": {
        "colab": {
          "base_uri": "https://localhost:8080/"
        },
        "id": "S9bI3XSPsBxB",
        "outputId": "d453ffe4-a0f6-49ea-a23b-7cbeb3fb5d30"
      },
      "execution_count": 31,
      "outputs": [
        {
          "output_type": "execute_result",
          "data": {
            "text/plain": [
              "<tf.Tensor: shape=(2, 2), dtype=int32, numpy=\n",
              "array([[ 7, 10],\n",
              "       [15, 22]], dtype=int32)>"
            ]
          },
          "metadata": {},
          "execution_count": 31
        }
      ]
    },
    {
      "cell_type": "code",
      "source": [
        "# matrix multiplication with Python operator '@'\n",
        "tensor @ tensor"
      ],
      "metadata": {
        "colab": {
          "base_uri": "https://localhost:8080/"
        },
        "id": "-9c7FzNVvX5P",
        "outputId": "8929003d-58b1-4d95-addb-541bb215e568"
      },
      "execution_count": 32,
      "outputs": [
        {
          "output_type": "execute_result",
          "data": {
            "text/plain": [
              "<tf.Tensor: shape=(2, 2), dtype=int32, numpy=\n",
              "array([[ 7, 10],\n",
              "       [15, 22]], dtype=int32)>"
            ]
          },
          "metadata": {},
          "execution_count": 32
        }
      ]
    },
    {
      "cell_type": "markdown",
      "source": [
        "#### If I create two (3,2) tensor, it won't take matrix multiplication. Therefore, I have two option:\n",
        "\n",
        "\n",
        "\n",
        "*   tf.reshape()\n",
        "*   tf.transpose()\n",
        "\n"
      ],
      "metadata": {
        "id": "Cr25N7buR9Cq"
      }
    },
    {
      "cell_type": "code",
      "source": [
        "# Creating (3, 2) tensor\n",
        "X = tf.constant([[1, 2],\n",
        "                 [3, 4],\n",
        "                 [5, 6]])\n",
        "\n",
        "# Creating another (3, 2) tensor\n",
        "Y = tf.constant([[7, 8],\n",
        "                 [9, 10],\n",
        "                 [11, 12]])\n",
        "X, Y"
      ],
      "metadata": {
        "id": "AduFhAwivknM",
        "colab": {
          "base_uri": "https://localhost:8080/"
        },
        "outputId": "8986ebcc-b785-40eb-84e0-3e294e006b44"
      },
      "execution_count": 33,
      "outputs": [
        {
          "output_type": "execute_result",
          "data": {
            "text/plain": [
              "(<tf.Tensor: shape=(3, 2), dtype=int32, numpy=\n",
              " array([[1, 2],\n",
              "        [3, 4],\n",
              "        [5, 6]], dtype=int32)>,\n",
              " <tf.Tensor: shape=(3, 2), dtype=int32, numpy=\n",
              " array([[ 7,  8],\n",
              "        [ 9, 10],\n",
              "        [11, 12]], dtype=int32)>)"
            ]
          },
          "metadata": {},
          "execution_count": 33
        }
      ]
    },
    {
      "cell_type": "code",
      "source": [
        "# Example of reshape (3, 2) -> (2, 3)\n",
        "tf.reshape(Y, shape=(2, 3))"
      ],
      "metadata": {
        "colab": {
          "base_uri": "https://localhost:8080/"
        },
        "id": "IhIMk_jySdnq",
        "outputId": "c417e5f0-a7d5-4c1d-c4e5-1306a5ebdf78"
      },
      "execution_count": 34,
      "outputs": [
        {
          "output_type": "execute_result",
          "data": {
            "text/plain": [
              "<tf.Tensor: shape=(2, 3), dtype=int32, numpy=\n",
              "array([[ 7,  8,  9],\n",
              "       [10, 11, 12]], dtype=int32)>"
            ]
          },
          "metadata": {},
          "execution_count": 34
        }
      ]
    },
    {
      "cell_type": "code",
      "source": [
        "# multiplying by reshaping\n",
        "X @ tf.reshape(Y, shape=(2,3))"
      ],
      "metadata": {
        "colab": {
          "base_uri": "https://localhost:8080/"
        },
        "id": "HfDf1iJwSuPD",
        "outputId": "0e16d7d0-fc68-4295-a234-2bbb1bc72ed0"
      },
      "execution_count": 35,
      "outputs": [
        {
          "output_type": "execute_result",
          "data": {
            "text/plain": [
              "<tf.Tensor: shape=(3, 3), dtype=int32, numpy=\n",
              "array([[ 27,  30,  33],\n",
              "       [ 61,  68,  75],\n",
              "       [ 95, 106, 117]], dtype=int32)>"
            ]
          },
          "metadata": {},
          "execution_count": 35
        }
      ]
    },
    {
      "cell_type": "code",
      "source": [
        "# Example of transpose (3, 2) -> (2, 3)\n",
        "tf.transpose(X) # no need to mention shape"
      ],
      "metadata": {
        "colab": {
          "base_uri": "https://localhost:8080/"
        },
        "id": "TCLfgaJCTRIG",
        "outputId": "667e9aed-f826-484d-f96f-9e40cf26be17"
      },
      "execution_count": 36,
      "outputs": [
        {
          "output_type": "execute_result",
          "data": {
            "text/plain": [
              "<tf.Tensor: shape=(2, 3), dtype=int32, numpy=\n",
              "array([[1, 3, 5],\n",
              "       [2, 4, 6]], dtype=int32)>"
            ]
          },
          "metadata": {},
          "execution_count": 36
        }
      ]
    },
    {
      "cell_type": "code",
      "source": [
        "# Trying matrix multiplication by 'transpose()' function\n",
        "tf.matmul(tf.transpose(X), Y)"
      ],
      "metadata": {
        "colab": {
          "base_uri": "https://localhost:8080/"
        },
        "id": "3hCUgWVvTYMk",
        "outputId": "6f705b83-499b-4d2d-a4e1-d150692a3753"
      },
      "execution_count": 37,
      "outputs": [
        {
          "output_type": "execute_result",
          "data": {
            "text/plain": [
              "<tf.Tensor: shape=(2, 2), dtype=int32, numpy=\n",
              "array([[ 89,  98],\n",
              "       [116, 128]], dtype=int32)>"
            ]
          },
          "metadata": {},
          "execution_count": 37
        }
      ]
    },
    {
      "cell_type": "code",
      "source": [
        "# I can achieve the same result with parameters\n",
        "tf.matmul(a=X, b=Y, transpose_a=True, transpose_b=False)"
      ],
      "metadata": {
        "colab": {
          "base_uri": "https://localhost:8080/"
        },
        "id": "tJXelfqTo3dv",
        "outputId": "2d073009-f6b9-40aa-c963-c33854e50708"
      },
      "execution_count": 38,
      "outputs": [
        {
          "output_type": "execute_result",
          "data": {
            "text/plain": [
              "<tf.Tensor: shape=(2, 2), dtype=int32, numpy=\n",
              "array([[ 89,  98],\n",
              "       [116, 128]], dtype=int32)>"
            ]
          },
          "metadata": {},
          "execution_count": 38
        }
      ]
    },
    {
      "cell_type": "markdown",
      "source": [
        "#### The Dot Product"
      ],
      "metadata": {
        "id": "UkAk-vqcvLxA"
      }
    },
    {
      "cell_type": "code",
      "source": [
        "# Performing the dot product on X and Y (requires X to be transposed)\n",
        "tf.tensordot(tf.transpose(X), Y, axes=1)"
      ],
      "metadata": {
        "id": "YjA3Id7XqUQj",
        "colab": {
          "base_uri": "https://localhost:8080/"
        },
        "outputId": "80855816-6ae0-4eaa-8f01-2effc1e8a310"
      },
      "execution_count": 39,
      "outputs": [
        {
          "output_type": "execute_result",
          "data": {
            "text/plain": [
              "<tf.Tensor: shape=(2, 2), dtype=int32, numpy=\n",
              "array([[ 89,  98],\n",
              "       [116, 128]], dtype=int32)>"
            ]
          },
          "metadata": {},
          "execution_count": 39
        }
      ]
    },
    {
      "cell_type": "markdown",
      "source": [
        "#### `tf.transpose()` and `tf.reshape()` both will work, but may give different result. Now, I will show examples and reason."
      ],
      "metadata": {
        "id": "1OgTl8B8eMYd"
      }
    },
    {
      "cell_type": "code",
      "source": [
        "# performing matrix multiplication between X and Y (transposed)\n",
        "tf.matmul(X, tf.transpose(Y))"
      ],
      "metadata": {
        "colab": {
          "base_uri": "https://localhost:8080/"
        },
        "id": "c7WxP3NV03tt",
        "outputId": "58af8209-1b3c-48f6-9c6e-5bf91ba56810"
      },
      "execution_count": 40,
      "outputs": [
        {
          "output_type": "execute_result",
          "data": {
            "text/plain": [
              "<tf.Tensor: shape=(3, 3), dtype=int32, numpy=\n",
              "array([[ 23,  29,  35],\n",
              "       [ 53,  67,  81],\n",
              "       [ 83, 105, 127]], dtype=int32)>"
            ]
          },
          "metadata": {},
          "execution_count": 40
        }
      ]
    },
    {
      "cell_type": "code",
      "source": [
        "# performing matrix multiplication between X and Y (reshaped)\n",
        "tf.matmul(X, tf.reshape(Y, (2,3)))"
      ],
      "metadata": {
        "colab": {
          "base_uri": "https://localhost:8080/"
        },
        "id": "e9GcAxzSfGZ1",
        "outputId": "af33ff46-ec19-4ad7-d339-4da724255daf"
      },
      "execution_count": 41,
      "outputs": [
        {
          "output_type": "execute_result",
          "data": {
            "text/plain": [
              "<tf.Tensor: shape=(3, 3), dtype=int32, numpy=\n",
              "array([[ 27,  30,  33],\n",
              "       [ 61,  68,  75],\n",
              "       [ 95, 106, 117]], dtype=int32)>"
            ]
          },
          "metadata": {},
          "execution_count": 41
        }
      ]
    },
    {
      "cell_type": "markdown",
      "source": [
        "#### Calling `tf.reshape()` and `tf.transpose()` on `Y` don't necessariy result in the same values."
      ],
      "metadata": {
        "id": "YEG82QTof8IG"
      }
    },
    {
      "cell_type": "code",
      "source": [
        "# checking values of Y, reshaped Y and transposed Y\n",
        "print(\"Normal Y: \")\n",
        "print(Y, \"\\n\")\n",
        "\n",
        "print(\"Y reshaped to (2,3): \")\n",
        "print(tf.reshape(Y,(2,3)), \"\\n\")\n",
        "\n",
        "print(\"Y transposed: \")\n",
        "print(tf.transpose(Y))"
      ],
      "metadata": {
        "colab": {
          "base_uri": "https://localhost:8080/"
        },
        "id": "HYEE-qAafYA5",
        "outputId": "0ca0cd42-fa7c-4f52-8b05-767c7f7fd7a9"
      },
      "execution_count": 42,
      "outputs": [
        {
          "output_type": "stream",
          "name": "stdout",
          "text": [
            "Normal Y: \n",
            "tf.Tensor(\n",
            "[[ 7  8]\n",
            " [ 9 10]\n",
            " [11 12]], shape=(3, 2), dtype=int32) \n",
            "\n",
            "Y reshaped to (2,3): \n",
            "tf.Tensor(\n",
            "[[ 7  8  9]\n",
            " [10 11 12]], shape=(2, 3), dtype=int32) \n",
            "\n",
            "Y transposed: \n",
            "tf.Tensor(\n",
            "[[ 7  9 11]\n",
            " [ 8 10 12]], shape=(2, 3), dtype=int32)\n"
          ]
        }
      ]
    },
    {
      "cell_type": "markdown",
      "source": [
        "#### `tf.reshape():` Changes the shape of a tensor, keeping the data order the same.\n",
        "#### `tf.transpose():` Swaps the axes of a tensor, changing the data layout."
      ],
      "metadata": {
        "id": "odZvuAq9mGhu"
      }
    },
    {
      "cell_type": "markdown",
      "source": [
        "# Changing the datatype of a tensor"
      ],
      "metadata": {
        "id": "d7aXF1qgF3s3"
      }
    },
    {
      "cell_type": "code",
      "source": [
        "# creating a new tensor with default datatype (float32)\n",
        "B = tf.constant([1.7, 7.4])\n",
        "\n",
        "# creating a new tensor with default datatype (int32)\n",
        "C = tf.constant([1, 7])\n",
        "B, C"
      ],
      "metadata": {
        "colab": {
          "base_uri": "https://localhost:8080/"
        },
        "id": "sgINEV-GhNlk",
        "outputId": "1b7076e1-365e-4cb7-9c34-62c4f3ca06d1"
      },
      "execution_count": 43,
      "outputs": [
        {
          "output_type": "execute_result",
          "data": {
            "text/plain": [
              "(<tf.Tensor: shape=(2,), dtype=float32, numpy=array([1.7, 7.4], dtype=float32)>,\n",
              " <tf.Tensor: shape=(2,), dtype=int32, numpy=array([1, 7], dtype=int32)>)"
            ]
          },
          "metadata": {},
          "execution_count": 43
        }
      ]
    },
    {
      "cell_type": "code",
      "source": [
        "# changing from float32 to float16 (reduced precision)\n",
        "B = tf.cast(B, dtype=tf.float16)\n",
        "B"
      ],
      "metadata": {
        "colab": {
          "base_uri": "https://localhost:8080/"
        },
        "id": "O7j07OviGzYu",
        "outputId": "2d20d796-f9d3-4f51-c62e-3e88b9b6e573"
      },
      "execution_count": 44,
      "outputs": [
        {
          "output_type": "execute_result",
          "data": {
            "text/plain": [
              "<tf.Tensor: shape=(2,), dtype=float16, numpy=array([1.7, 7.4], dtype=float16)>"
            ]
          },
          "metadata": {},
          "execution_count": 44
        }
      ]
    },
    {
      "cell_type": "code",
      "source": [
        "# changing from int32 to float32\n",
        "C = tf.cast(C, dtype=tf.float32)\n",
        "C"
      ],
      "metadata": {
        "colab": {
          "base_uri": "https://localhost:8080/"
        },
        "id": "GU-_KUAkHYt5",
        "outputId": "d37eb72c-1219-476b-c0db-888c07f3230f"
      },
      "execution_count": 45,
      "outputs": [
        {
          "output_type": "execute_result",
          "data": {
            "text/plain": [
              "<tf.Tensor: shape=(2,), dtype=float32, numpy=array([1., 7.], dtype=float32)>"
            ]
          },
          "metadata": {},
          "execution_count": 45
        }
      ]
    },
    {
      "cell_type": "markdown",
      "source": [
        "# Getting the absolute value"
      ],
      "metadata": {
        "id": "O0A-ZFxBHt9s"
      }
    },
    {
      "cell_type": "markdown",
      "source": [
        "##### absolute values means `all values are positive`. `tf.abs()` fn uses for that."
      ],
      "metadata": {
        "id": "Nfkt2OgoH8nb"
      }
    },
    {
      "cell_type": "code",
      "source": [
        "# creating tensor with negative values\n",
        "D = tf.constant([-7, -10])\n",
        "D"
      ],
      "metadata": {
        "colab": {
          "base_uri": "https://localhost:8080/"
        },
        "id": "io9VJm7FHo0a",
        "outputId": "4311eb74-292f-43bb-e9fa-322cd7196910"
      },
      "execution_count": 46,
      "outputs": [
        {
          "output_type": "execute_result",
          "data": {
            "text/plain": [
              "<tf.Tensor: shape=(2,), dtype=int32, numpy=array([ -7, -10], dtype=int32)>"
            ]
          },
          "metadata": {},
          "execution_count": 46
        }
      ]
    },
    {
      "cell_type": "code",
      "source": [
        "# getting the absolute value\n",
        "tf.abs(D)"
      ],
      "metadata": {
        "colab": {
          "base_uri": "https://localhost:8080/"
        },
        "id": "FNBR65OxIeq8",
        "outputId": "a78182c3-b60c-49da-c536-85ac6b318383"
      },
      "execution_count": 47,
      "outputs": [
        {
          "output_type": "execute_result",
          "data": {
            "text/plain": [
              "<tf.Tensor: shape=(2,), dtype=int32, numpy=array([ 7, 10], dtype=int32)>"
            ]
          },
          "metadata": {},
          "execution_count": 47
        }
      ]
    },
    {
      "cell_type": "markdown",
      "source": [
        "# Finding the min, max, mean, sum (aggregation)"
      ],
      "metadata": {
        "id": "PJky-MgRIt06"
      }
    },
    {
      "cell_type": "markdown",
      "source": [
        "#### aggregate means performing a calculation on a whole tensor.\n",
        "\n",
        "\n",
        "\n",
        "*   tf.reduce_min() - finding the minimum value in a tensor.\n",
        "*   tf.reduce_max() - finding the maximum value in a tensor.\n",
        "*   tf.reduce_mean() - finding the mean of all elements in a tensor.\n",
        "*   tf.reduce_sum() - finding the sum of all elements in a tensor.\n",
        "\n"
      ],
      "metadata": {
        "id": "_Zl48-c0KBoO"
      }
    },
    {
      "cell_type": "code",
      "source": [
        "# creating a tensor with 50 random values between 0 and 100\n",
        "import numpy as np\n",
        "E = tf.constant(np.random.randint(0, 100, size=50))\n",
        "E"
      ],
      "metadata": {
        "colab": {
          "base_uri": "https://localhost:8080/"
        },
        "id": "MUmbmi5rIkhg",
        "outputId": "8df9c48a-0071-403d-873a-f2b8a78fc1e1"
      },
      "execution_count": 48,
      "outputs": [
        {
          "output_type": "execute_result",
          "data": {
            "text/plain": [
              "<tf.Tensor: shape=(50,), dtype=int64, numpy=\n",
              "array([70, 51, 96, 91, 63, 28, 72, 86,  9,  5, 90, 71,  8, 61, 16, 56, 53,\n",
              "       32, 46, 23, 63, 25, 98,  4,  9, 30, 20, 68, 32, 27, 42, 92, 81,  6,\n",
              "       80, 29,  1,  2, 11,  0, 91, 30, 43, 95, 21, 94,  1, 55,  0, 93])>"
            ]
          },
          "metadata": {},
          "execution_count": 48
        }
      ]
    },
    {
      "cell_type": "code",
      "source": [
        "# finding the minimum\n",
        "tf.reduce_min(E)"
      ],
      "metadata": {
        "colab": {
          "base_uri": "https://localhost:8080/"
        },
        "id": "Drp2Y9J0DRzk",
        "outputId": "0304201a-91fa-4fad-d249-1d7b2c2c272c"
      },
      "execution_count": 49,
      "outputs": [
        {
          "output_type": "execute_result",
          "data": {
            "text/plain": [
              "<tf.Tensor: shape=(), dtype=int64, numpy=0>"
            ]
          },
          "metadata": {},
          "execution_count": 49
        }
      ]
    },
    {
      "cell_type": "code",
      "source": [
        "# finding the maximum\n",
        "tf.reduce_max(E)"
      ],
      "metadata": {
        "colab": {
          "base_uri": "https://localhost:8080/"
        },
        "id": "YimM--cpDnVE",
        "outputId": "e10be964-3fbf-4616-a8c1-f43b6e4edcbf"
      },
      "execution_count": 50,
      "outputs": [
        {
          "output_type": "execute_result",
          "data": {
            "text/plain": [
              "<tf.Tensor: shape=(), dtype=int64, numpy=98>"
            ]
          },
          "metadata": {},
          "execution_count": 50
        }
      ]
    },
    {
      "cell_type": "code",
      "source": [
        "# finding the mean\n",
        "tf.reduce_mean(E)"
      ],
      "metadata": {
        "colab": {
          "base_uri": "https://localhost:8080/"
        },
        "id": "Qq0U0kpbDvS9",
        "outputId": "ade0ec3e-bc7b-446f-a439-716b8db599c2"
      },
      "execution_count": 51,
      "outputs": [
        {
          "output_type": "execute_result",
          "data": {
            "text/plain": [
              "<tf.Tensor: shape=(), dtype=int64, numpy=45>"
            ]
          },
          "metadata": {},
          "execution_count": 51
        }
      ]
    },
    {
      "cell_type": "code",
      "source": [
        "# finding the sum\n",
        "tf.reduce_sum(E)"
      ],
      "metadata": {
        "colab": {
          "base_uri": "https://localhost:8080/"
        },
        "id": "LYiSTpqLD2q7",
        "outputId": "37c7e4d5-cb81-4993-a480-81ea2ce8c4a8"
      },
      "execution_count": 52,
      "outputs": [
        {
          "output_type": "execute_result",
          "data": {
            "text/plain": [
              "<tf.Tensor: shape=(), dtype=int64, numpy=2270>"
            ]
          },
          "metadata": {},
          "execution_count": 52
        }
      ]
    },
    {
      "cell_type": "markdown",
      "source": [
        "# Finding the positional maximum and minimum\n",
        "\n",
        "\n",
        "*   tf.argmax() - finding the position of the maximum element in a given tensor.\n",
        "*   tf.argmin() - finding the position of the minimum element in a given tensor.\n",
        "\n"
      ],
      "metadata": {
        "id": "rwf49CVoGakR"
      }
    },
    {
      "cell_type": "code",
      "source": [
        "# creating a tensor with 50 values between 0 and 1\n",
        "F = tf.constant(np.random.random(50))\n",
        "F"
      ],
      "metadata": {
        "colab": {
          "base_uri": "https://localhost:8080/"
        },
        "id": "5T3ku2NSEEko",
        "outputId": "5cb8d034-bd70-459e-c2fd-d7c0b06fda80"
      },
      "execution_count": 53,
      "outputs": [
        {
          "output_type": "execute_result",
          "data": {
            "text/plain": [
              "<tf.Tensor: shape=(50,), dtype=float64, numpy=\n",
              "array([0.89334109, 0.23616937, 0.12541352, 0.94357058, 0.63260733,\n",
              "       0.73376293, 0.7809823 , 0.79124157, 0.00396612, 0.118976  ,\n",
              "       0.77723987, 0.86658218, 0.13453087, 0.10062696, 0.98914152,\n",
              "       0.32256082, 0.88852031, 0.33420576, 0.17120165, 0.72153563,\n",
              "       0.65560413, 0.00765365, 0.09331246, 0.35112077, 0.86234352,\n",
              "       0.44662531, 0.93135564, 0.84939572, 0.55056256, 0.8911742 ,\n",
              "       0.21603952, 0.04440583, 0.86880778, 0.23025869, 0.11005524,\n",
              "       0.24919871, 0.18417614, 0.88791507, 0.6627992 , 0.70309295,\n",
              "       0.69465804, 0.5695034 , 0.64099706, 0.51217798, 0.64505851,\n",
              "       0.39589754, 0.756662  , 0.36647244, 0.86417109, 0.18934896])>"
            ]
          },
          "metadata": {},
          "execution_count": 53
        }
      ]
    },
    {
      "cell_type": "code",
      "source": [
        "# maximum element position of F\n",
        "tf.argmax(F)"
      ],
      "metadata": {
        "colab": {
          "base_uri": "https://localhost:8080/"
        },
        "id": "pGSrKvslFTuV",
        "outputId": "0e599228-376e-43a8-f27c-8a2644487353"
      },
      "execution_count": 54,
      "outputs": [
        {
          "output_type": "execute_result",
          "data": {
            "text/plain": [
              "<tf.Tensor: shape=(), dtype=int64, numpy=14>"
            ]
          },
          "metadata": {},
          "execution_count": 54
        }
      ]
    },
    {
      "cell_type": "code",
      "source": [
        "# minimum element position of F\n",
        "tf.argmin(F)"
      ],
      "metadata": {
        "colab": {
          "base_uri": "https://localhost:8080/"
        },
        "id": "vtSy2PeBHQ-v",
        "outputId": "f4b823ba-d279-4188-b7f9-9cccf7c29282"
      },
      "execution_count": 55,
      "outputs": [
        {
          "output_type": "execute_result",
          "data": {
            "text/plain": [
              "<tf.Tensor: shape=(), dtype=int64, numpy=8>"
            ]
          },
          "metadata": {},
          "execution_count": 55
        }
      ]
    },
    {
      "cell_type": "markdown",
      "source": [
        "# Squeezing a tensor (removing all single dimensions)\n",
        "#### If I need to remove single-dimensions from a tensor (dimensions with size 1), I can use `tf.squeeze()`"
      ],
      "metadata": {
        "id": "XnrEacy1kS8U"
      }
    },
    {
      "cell_type": "code",
      "source": [
        "# Creating a rank 5 (5 dimensions) tensor of 50 numbers between 0 and 100\n",
        "G = tf.constant(np.random.randint(0, 100, 50), shape=(1, 1, 1, 1, 50))\n",
        "G.shape, G.ndim"
      ],
      "metadata": {
        "colab": {
          "base_uri": "https://localhost:8080/"
        },
        "id": "QOIoaztIHX0b",
        "outputId": "cb5c90c3-655f-41f6-c819-0aac8020ffa0"
      },
      "execution_count": 56,
      "outputs": [
        {
          "output_type": "execute_result",
          "data": {
            "text/plain": [
              "(TensorShape([1, 1, 1, 1, 50]), 5)"
            ]
          },
          "metadata": {},
          "execution_count": 56
        }
      ]
    },
    {
      "cell_type": "code",
      "source": [
        "# Squeezing tensor G (removing all 1 dimensions)\n",
        "G_squeezed = tf.squeeze(G)\n",
        "G_squeezed.shape, G_squeezed.ndim"
      ],
      "metadata": {
        "colab": {
          "base_uri": "https://localhost:8080/"
        },
        "id": "oE1agTLKk2v1",
        "outputId": "c7bedec3-59f3-4317-e66f-0389ae5b0f1c"
      },
      "execution_count": 57,
      "outputs": [
        {
          "output_type": "execute_result",
          "data": {
            "text/plain": [
              "(TensorShape([50]), 1)"
            ]
          },
          "metadata": {},
          "execution_count": 57
        }
      ]
    },
    {
      "cell_type": "markdown",
      "source": [
        "# One-hot encoding"
      ],
      "metadata": {
        "id": "a9ZPXWuklLHm"
      }
    },
    {
      "cell_type": "code",
      "source": [
        "# creating a list of indices\n",
        "some_list = [0,1,2,3]\n",
        "\n",
        "# one hot encode them\n",
        "tf.one_hot(some_list, depth=4)"
      ],
      "metadata": {
        "colab": {
          "base_uri": "https://localhost:8080/"
        },
        "id": "RPap_EydlFtw",
        "outputId": "52e901b8-9132-4d13-ff0e-4a25f194fdbc"
      },
      "execution_count": 58,
      "outputs": [
        {
          "output_type": "execute_result",
          "data": {
            "text/plain": [
              "<tf.Tensor: shape=(4, 4), dtype=float32, numpy=\n",
              "array([[1., 0., 0., 0.],\n",
              "       [0., 1., 0., 0.],\n",
              "       [0., 0., 1., 0.],\n",
              "       [0., 0., 0., 1.]], dtype=float32)>"
            ]
          },
          "metadata": {},
          "execution_count": 58
        }
      ]
    },
    {
      "cell_type": "markdown",
      "source": [
        "#### I can also specify values for `on_value` and `off_value` instead of the default `0` and `1`."
      ],
      "metadata": {
        "id": "g1sQ684uwshy"
      }
    },
    {
      "cell_type": "code",
      "source": [
        "# specifying custom values\n",
        "tf.one_hot(some_list, depth=4, on_value=\"Yes\", off_value=\"No\")"
      ],
      "metadata": {
        "colab": {
          "base_uri": "https://localhost:8080/"
        },
        "id": "eXX6QBCUwdC2",
        "outputId": "bd42f750-29fa-491e-be56-cff4a4303dc5"
      },
      "execution_count": 59,
      "outputs": [
        {
          "output_type": "execute_result",
          "data": {
            "text/plain": [
              "<tf.Tensor: shape=(4, 4), dtype=string, numpy=\n",
              "array([[b'Yes', b'No', b'No', b'No'],\n",
              "       [b'No', b'Yes', b'No', b'No'],\n",
              "       [b'No', b'No', b'Yes', b'No'],\n",
              "       [b'No', b'No', b'No', b'Yes']], dtype=object)>"
            ]
          },
          "metadata": {},
          "execution_count": 59
        }
      ]
    },
    {
      "cell_type": "markdown",
      "source": [
        "# Squaring, log, square root"
      ],
      "metadata": {
        "id": "h13xtKnn7agz"
      }
    },
    {
      "cell_type": "code",
      "source": [
        "# creating a new tensor\n",
        "H = tf.constant(np.arange(1,10))\n",
        "H"
      ],
      "metadata": {
        "colab": {
          "base_uri": "https://localhost:8080/"
        },
        "id": "X9-C3ofbxVNo",
        "outputId": "d3b2ef74-b058-4340-b61a-6debb65c67b2"
      },
      "execution_count": 60,
      "outputs": [
        {
          "output_type": "execute_result",
          "data": {
            "text/plain": [
              "<tf.Tensor: shape=(9,), dtype=int64, numpy=array([1, 2, 3, 4, 5, 6, 7, 8, 9])>"
            ]
          },
          "metadata": {},
          "execution_count": 60
        }
      ]
    },
    {
      "cell_type": "code",
      "source": [
        "# square\n",
        "tf.square(H)"
      ],
      "metadata": {
        "colab": {
          "base_uri": "https://localhost:8080/"
        },
        "id": "kVFN9EB7DGcv",
        "outputId": "2c9218ab-0a88-42c8-984e-99953ee6b58d"
      },
      "execution_count": 61,
      "outputs": [
        {
          "output_type": "execute_result",
          "data": {
            "text/plain": [
              "<tf.Tensor: shape=(9,), dtype=int64, numpy=array([ 1,  4,  9, 16, 25, 36, 49, 64, 81])>"
            ]
          },
          "metadata": {},
          "execution_count": 61
        }
      ]
    },
    {
      "cell_type": "code",
      "source": [
        "# directly finding the sqrt will give error as it's integer.\n",
        "# converting it to float32\n",
        "H = tf.cast(H, dtype=tf.float32)\n",
        "tf.sqrt(H)"
      ],
      "metadata": {
        "colab": {
          "base_uri": "https://localhost:8080/"
        },
        "id": "FGZGvzHXDQ0Q",
        "outputId": "8d63a901-9912-4286-f483-7df50b48d04c"
      },
      "execution_count": 62,
      "outputs": [
        {
          "output_type": "execute_result",
          "data": {
            "text/plain": [
              "<tf.Tensor: shape=(9,), dtype=float32, numpy=\n",
              "array([1.       , 1.4142135, 1.7320508, 2.       , 2.236068 , 2.4494898,\n",
              "       2.6457512, 2.828427 , 3.       ], dtype=float32)>"
            ]
          },
          "metadata": {},
          "execution_count": 62
        }
      ]
    },
    {
      "cell_type": "code",
      "source": [
        "# finding the log also requires float\n",
        "tf.math.log(H)"
      ],
      "metadata": {
        "colab": {
          "base_uri": "https://localhost:8080/"
        },
        "id": "37XWU9KTDxrU",
        "outputId": "a7ef5c98-ea6d-4ef3-eb77-4000ef45c264"
      },
      "execution_count": 63,
      "outputs": [
        {
          "output_type": "execute_result",
          "data": {
            "text/plain": [
              "<tf.Tensor: shape=(9,), dtype=float32, numpy=\n",
              "array([0.       , 0.6931472, 1.0986123, 1.3862944, 1.609438 , 1.7917595,\n",
              "       1.9459102, 2.0794415, 2.1972246], dtype=float32)>"
            ]
          },
          "metadata": {},
          "execution_count": 63
        }
      ]
    },
    {
      "cell_type": "markdown",
      "source": [
        "# Manipulating 'tf.Variable' tensors\n",
        "#### Tensors created with tf.Variable() can be changed in place using methods such as:\n",
        "\n",
        "*   `.assign()` - assign a different value to a particular index of a variable tensor.\n",
        "*   `.add_assign()` - add to an existing value and reassign it at a particular index of a variable tensor."
      ],
      "metadata": {
        "id": "l7YIIPXpEL7m"
      }
    },
    {
      "cell_type": "code",
      "source": [
        "# creating a variable tensor\n",
        "I = tf.Variable(np.arange(0,5))\n",
        "I"
      ],
      "metadata": {
        "colab": {
          "base_uri": "https://localhost:8080/"
        },
        "id": "FjAsUAhkEAbA",
        "outputId": "3a56d736-5efa-443f-d1f0-2195e6d65420"
      },
      "execution_count": 64,
      "outputs": [
        {
          "output_type": "execute_result",
          "data": {
            "text/plain": [
              "<tf.Variable 'Variable:0' shape=(5,) dtype=int64, numpy=array([0, 1, 2, 3, 4])>"
            ]
          },
          "metadata": {},
          "execution_count": 64
        }
      ]
    },
    {
      "cell_type": "code",
      "source": [
        "# changing a value\n",
        "I.assign([0,1,2,3,50])"
      ],
      "metadata": {
        "colab": {
          "base_uri": "https://localhost:8080/"
        },
        "id": "p8-CvOJVE7eV",
        "outputId": "70e0a112-d68d-4fbf-9df2-1971810b4f90"
      },
      "execution_count": 65,
      "outputs": [
        {
          "output_type": "execute_result",
          "data": {
            "text/plain": [
              "<tf.Variable 'UnreadVariable' shape=(5,) dtype=int64, numpy=array([ 0,  1,  2,  3, 50])>"
            ]
          },
          "metadata": {},
          "execution_count": 65
        }
      ]
    },
    {
      "cell_type": "code",
      "source": [
        "# add function will make summation\n",
        "I.assign_add([10,10,10,10,10])\n",
        "I"
      ],
      "metadata": {
        "colab": {
          "base_uri": "https://localhost:8080/"
        },
        "id": "1LKFBDSLFQJ4",
        "outputId": "95c4cf47-c310-4011-e850-fb5603a7cc7c"
      },
      "execution_count": 66,
      "outputs": [
        {
          "output_type": "execute_result",
          "data": {
            "text/plain": [
              "<tf.Variable 'Variable:0' shape=(5,) dtype=int64, numpy=array([10, 11, 12, 13, 60])>"
            ]
          },
          "metadata": {},
          "execution_count": 66
        }
      ]
    },
    {
      "cell_type": "code",
      "source": [],
      "metadata": {
        "id": "1bRaWHRIFuMu"
      },
      "execution_count": 66,
      "outputs": []
    }
  ]
}
